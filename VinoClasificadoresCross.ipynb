{
 "cells": [
  {
   "cell_type": "code",
   "execution_count": null,
   "metadata": {},
   "outputs": [],
   "source": [
    "#Edgar Moises Hernandez-Gonzalez\n",
    "#10/05/19\n",
    "#Clasificacion de Vino con MLP, SVM, K-NN, Regresion Logistica, Arbol de decision, Naive Bayes,\n",
    "#Analisis discriminante y RandomForest con validacion cruzada de 5"
   ]
  },
  {
   "cell_type": "code",
   "execution_count": 1,
   "metadata": {},
   "outputs": [],
   "source": [
    "import pandas as pd\n",
    "from sklearn.model_selection import cross_val_score"
   ]
  },
  {
   "cell_type": "code",
   "execution_count": 2,
   "metadata": {},
   "outputs": [],
   "source": [
    "#from sklearn.neural_network import MLPClassifier\n",
    "#from sklearn import svm\n",
    "#from sklearn.neighbors import KNeighborsClassifier\n",
    "#from sklearn.linear_model import LogisticRegression\n",
    "#from sklearn.tree import DecisionTreeClassifier\n",
    "#from sklearn.naive_bayes import GaussianNB\n",
    "from sklearn.discriminant_analysis import LinearDiscriminantAnalysis\n",
    "#from sklearn.ensemble import RandomForestClassifier"
   ]
  },
  {
   "cell_type": "code",
   "execution_count": 3,
   "metadata": {},
   "outputs": [],
   "source": [
    "datos=pd.read_csv(\"Vino.csv\", header = None)\n",
    "x = datos.iloc[:, 1:14].values\n",
    "y = datos.iloc[:, 0].values"
   ]
  },
  {
   "cell_type": "code",
   "execution_count": 4,
   "metadata": {},
   "outputs": [
    {
     "name": "stdout",
     "output_type": "stream",
     "text": [
      "(178, 14)\n",
      "(178, 13)\n",
      "(178,)\n"
     ]
    }
   ],
   "source": [
    "print(datos.shape)\n",
    "print(x.shape)\n",
    "print(y.shape)"
   ]
  },
  {
   "cell_type": "code",
   "execution_count": 5,
   "metadata": {},
   "outputs": [
    {
     "data": {
      "text/plain": [
       "LinearDiscriminantAnalysis(n_components=None, priors=None, shrinkage=None,\n",
       "              solver='svd', store_covariance=False, tol=0.0001)"
      ]
     },
     "execution_count": 5,
     "metadata": {},
     "output_type": "execute_result"
    }
   ],
   "source": [
    "#clf = MLPClassifier(hidden_layer_sizes=(10, ), activation='tanh')\n",
    "#clf = svm.SVC() #42.77%\n",
    "#clf = svm.LinearSVC()\n",
    "#clf = KNeighborsClassifier(n_neighbors = 10)\n",
    "#clf = LogisticRegression()\n",
    "#clf = DecisionTreeClassifier()\n",
    "#clf = GaussianNB()\n",
    "clf = LinearDiscriminantAnalysis()\n",
    "#clf = QuadraticDiscriminantAnalysis() #95.52%\n",
    "#clf = RandomForestClassifier()\n",
    "clf"
   ]
  },
  {
   "cell_type": "code",
   "execution_count": 6,
   "metadata": {},
   "outputs": [
    {
     "name": "stdout",
     "output_type": "stream",
     "text": [
      "[0.97297297 1.         0.97222222 0.97142857 0.97058824]\n",
      "0.9774424003835769\n"
     ]
    }
   ],
   "source": [
    "scores = cross_val_score(clf, x, y, cv=5)\n",
    "print(scores)\n",
    "print(scores.mean())"
   ]
  }
 ],
 "metadata": {
  "kernelspec": {
   "display_name": "Python 3",
   "language": "python",
   "name": "python3"
  },
  "language_info": {
   "codemirror_mode": {
    "name": "ipython",
    "version": 3
   },
   "file_extension": ".py",
   "mimetype": "text/x-python",
   "name": "python",
   "nbconvert_exporter": "python",
   "pygments_lexer": "ipython3",
   "version": "3.7.3"
  }
 },
 "nbformat": 4,
 "nbformat_minor": 2
}
